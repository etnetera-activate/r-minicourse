{
 "cells": [
  {
   "cell_type": "code",
   "execution_count": null,
   "metadata": {},
   "outputs": [],
   "source": [
    "library(bigrquery)\n",
    "library(dplyr)\n",
    "library(tidyr)\n",
    "library(arules)\n",
    "\n",
    "# Store the project id\n",
    "projectid = \"ceska-televize\"\n",
    "\n",
    "# Set your query\n",
    "sql <- \"SELECT deviceID as user, eventLabel as porad, count(*) as shednuti from L1.CT_HITS_FACT where eventDate >= '2020-05-01' and eventCategory = 'Video' and eventAction='Prehrat' group by deviceId, eventLabel\"\n",
    "\n",
    "# Run the query and store the data in a dataframe\n",
    "data <- query_exec(sql, projectid, use_legacy_sql = FALSE, allow_large_results = TRUE, max_pages=Inf)\n",
    "\n",
    "# Print the query result\n",
    "nrow(data)\n",
    "head(data)"
   ]
  },
  {
   "cell_type": "code",
   "execution_count": 74,
   "metadata": {},
   "outputs": [
    {
     "data": {
      "text/html": [
       "<table>\n",
       "<caption>A grouped_df: 6 × 3</caption>\n",
       "<thead>\n",
       "\t<tr><th scope=col>user</th><th scope=col>porad</th><th scope=col>shlednuti</th></tr>\n",
       "\t<tr><th scope=col>&lt;chr&gt;</th><th scope=col>&lt;chr&gt;</th><th scope=col>&lt;int&gt;</th></tr>\n",
       "</thead>\n",
       "<tbody>\n",
       "\t<tr><td>547476995.1585606314 </td><td>Svět rostlin                              </td><td>231</td></tr>\n",
       "\t<tr><td>1748062582.1578690272</td><td>Němčina s Bílou paní: Schluss im Schloss  </td><td>189</td></tr>\n",
       "\t<tr><td>1425682668.1588682431</td><td>Pozdní jaro: Živočichové a rozkvetlé louky</td><td>151</td></tr>\n",
       "\t<tr><td>1237462012.1587892788</td><td>Josef Jungmann                            </td><td>137</td></tr>\n",
       "\t<tr><td>1881005439.1577736071</td><td>Jóga v přírodě: Cviky Hůl, Loď, Volavka   </td><td>130</td></tr>\n",
       "\t<tr><td>1738591574.1589831551</td><td>Karel Jaromír Erben: Jeho život a doba    </td><td>112</td></tr>\n",
       "</tbody>\n",
       "</table>\n"
      ],
      "text/latex": [
       "A grouped\\_df: 6 × 3\n",
       "\\begin{tabular}{lll}\n",
       " user & porad & shlednuti\\\\\n",
       " <chr> & <chr> & <int>\\\\\n",
       "\\hline\n",
       "\t 547476995.1585606314  & Svět rostlin                               & 231\\\\\n",
       "\t 1748062582.1578690272 & Němčina s Bílou paní: Schluss im Schloss   & 189\\\\\n",
       "\t 1425682668.1588682431 & Pozdní jaro: Živočichové a rozkvetlé louky & 151\\\\\n",
       "\t 1237462012.1587892788 & Josef Jungmann                             & 137\\\\\n",
       "\t 1881005439.1577736071 & Jóga v přírodě: Cviky Hůl, Loď, Volavka    & 130\\\\\n",
       "\t 1738591574.1589831551 & Karel Jaromír Erben: Jeho život a doba     & 112\\\\\n",
       "\\end{tabular}\n"
      ],
      "text/markdown": [
       "\n",
       "A grouped_df: 6 × 3\n",
       "\n",
       "| user &lt;chr&gt; | porad &lt;chr&gt; | shlednuti &lt;int&gt; |\n",
       "|---|---|---|\n",
       "| 547476995.1585606314  | Svět rostlin                               | 231 |\n",
       "| 1748062582.1578690272 | Němčina s Bílou paní: Schluss im Schloss   | 189 |\n",
       "| 1425682668.1588682431 | Pozdní jaro: Živočichové a rozkvetlé louky | 151 |\n",
       "| 1237462012.1587892788 | Josef Jungmann                             | 137 |\n",
       "| 1881005439.1577736071 | Jóga v přírodě: Cviky Hůl, Loď, Volavka    | 130 |\n",
       "| 1738591574.1589831551 | Karel Jaromír Erben: Jeho život a doba     | 112 |\n",
       "\n"
      ],
      "text/plain": [
       "  user                  porad                                      shlednuti\n",
       "1 547476995.1585606314  Svět rostlin                               231      \n",
       "2 1748062582.1578690272 Němčina s Bílou paní: Schluss im Schloss   189      \n",
       "3 1425682668.1588682431 Pozdní jaro: Živočichové a rozkvetlé louky 151      \n",
       "4 1237462012.1587892788 Josef Jungmann                             137      \n",
       "5 1881005439.1577736071 Jóga v přírodě: Cviky Hůl, Loď, Volavka    130      \n",
       "6 1738591574.1589831551 Karel Jaromír Erben: Jeho život a doba     112      "
      ]
     },
     "metadata": {},
     "output_type": "display_data"
    }
   ],
   "source": [
    "\n"
   ]
  },
  {
   "cell_type": "code",
   "execution_count": null,
   "metadata": {},
   "outputs": [],
   "source": []
  },
  {
   "cell_type": "code",
   "execution_count": 75,
   "metadata": {},
   "outputs": [],
   "source": [
    "\n"
   ]
  },
  {
   "cell_type": "code",
   "execution_count": 87,
   "metadata": {},
   "outputs": [
    {
     "data": {
      "text/plain": [
       "transactions as itemMatrix in sparse format with\n",
       " 86607 rows (elements/itemsets/transactions) and\n",
       " 15235 columns (items) and a density of 0.0001159044 \n",
       "\n",
       "most frequent items:\n",
       "   168 hodin | Neděle 31. května Reportéři ČT | Pondělí 1. června \n",
       "                            5426                             3820 \n",
       "    Události | Pondělí 1. června               Uzly a pomeranče | \n",
       "                            2212                             2053 \n",
       "             Polopatě | Polopatě                          (Other) \n",
       "                            1565                           137855 \n",
       "\n",
       "element (itemset/transaction) length distribution:\n",
       "sizes\n",
       "    1     2     3     4     5     6     7     8     9    10    11    12    13 \n",
       "58289 14796  5830  2957  1691  1010   564   409   259   199   162   109    73 \n",
       "   14    15    16    17    18    19    20    21    22    23    24    25    26 \n",
       "   47    31    32    25    26    10    12    10     6     7     4     5     6 \n",
       "   27    28    29    30    32    33    34    35    36    37    38    40    43 \n",
       "    3     3     3     1     1     1     3     2     3     1     2     1     1 \n",
       "   44    45    46    52    57    59    60   142   156   160 \n",
       "    1     1     2     2     2     1     1     1     1     1 \n",
       "\n",
       "   Min. 1st Qu.  Median    Mean 3rd Qu.    Max. \n",
       "  1.000   1.000   1.000   1.766   2.000 160.000 \n",
       "\n",
       "includes extended item information - examples:\n",
       "                                                        labels\n",
       "1                                           - Сер, ви вдова! |\n",
       "2                                                     -terapie\n",
       "3 ...a tuhle znáte? | Dechový orchestr mladých ZUŠ v Klatovech\n",
       "\n",
       "includes extended transaction information - examples:\n",
       "          transactionID\n",
       "1 1000011999.1578170758\n",
       "2 1000014320.1542830433\n",
       "3 1000023251.1590736847"
      ]
     },
     "metadata": {},
     "output_type": "display_data"
    }
   ],
   "source": [
    "\n",
    "# Create a temporary directory\n",
    "\n",
    " \n",
    "# Write our data.frame to a csv\n",
    "write.csv(data[,c(1,2)], \"/tmp/tall_transactions.csv\")\n",
    " \n",
    "# Read that csv back in\n",
    "relations <- read.transactions(\n",
    "        file = \"/tmp/tall_transactions.csv\",\n",
    "        format = \"single\",\n",
    "        sep = \",\",\n",
    "        cols=c(\"user\",\"porad\"),\n",
    "        rm.duplicates = T,\n",
    "        header=TRUE\n",
    ")\n",
    "summary(relations)\n"
   ]
  },
  {
   "cell_type": "code",
   "execution_count": 88,
   "metadata": {},
   "outputs": [
    {
     "name": "stdout",
     "output_type": "stream",
     "text": [
      "Apriori\n",
      "\n",
      "Parameter specification:\n",
      " confidence minval smax arem  aval originalSupport maxtime support minlen\n",
      "        0.6    0.1    1 none FALSE            TRUE       5   0.001      1\n",
      " maxlen target  ext\n",
      "     10  rules TRUE\n",
      "\n",
      "Algorithmic control:\n",
      " filter tree heap memopt load sort verbose\n",
      "    0.1 TRUE TRUE  FALSE TRUE    2    TRUE\n",
      "\n",
      "Absolute minimum support count: 86 \n",
      "\n",
      "set item appearances ...[0 item(s)] done [0.00s].\n",
      "set transactions ...[15235 item(s), 86607 transaction(s)] done [0.11s].\n",
      "sorting and recoding items ... [223 item(s)] done [0.01s].\n",
      "creating transaction tree ... done [0.05s].\n",
      "checking subsets of size 1 2 3 4 done [0.00s].\n",
      "writing ... [75 rule(s)] done [0.00s].\n",
      "creating S4 object  ... done [0.04s].\n"
     ]
    }
   ],
   "source": [
    "rules <- apriori(relations, parameter = list(support = 0.001, confidence = 0.6))"
   ]
  },
  {
   "cell_type": "code",
   "execution_count": 89,
   "metadata": {},
   "outputs": [
    {
     "name": "stdout",
     "output_type": "stream",
     "text": [
      "     lhs                                                rhs                                                 support confidence    coverage      lift count\n",
      "[1]  {MOST! | 2/8,                                                                                                                                        \n",
      "      MOST! | 4/8}                                   => {MOST! | 3/8}                                   0.001073816  0.9893617 0.001085363 372.54630    93\n",
      "[2]  {MOST! | 5/8,                                                                                                                                        \n",
      "      MOST! | 7/8}                                   => {MOST! | 6/8}                                   0.001039177  0.9890110 0.001050723 426.14565    90\n",
      "[3]  {MOST! | 6/8,                                                                                                                                        \n",
      "      MOST! | 8/8}                                   => {MOST! | 7/8}                                   0.001027631  0.9888889 0.001039177 503.79235    89\n",
      "[4]  {Láska v čase korony | Není nutno,                                                                                                                   \n",
      "      Láska v čase korony | Oslava,                                                                                                                       \n",
      "      Láska v čase korony | Terapie}                 => {Láska v čase korony | Lidská práva}            0.001039177  0.9677419 0.001073816 152.94384    90\n",
      "[5]  {Láska v čase korony | Lidská práva,                                                                                                                 \n",
      "      Láska v čase korony | Není nutno,                                                                                                                   \n",
      "      Láska v čase korony | Změna plánů}             => {Láska v čase korony | Terapie}                 0.001189280  0.9626168 0.001235466 239.56711   103\n",
      "[6]  {Láska v čase korony | Lidská práva,                                                                                                                 \n",
      "      Láska v čase korony | Terapie,                                                                                                                      \n",
      "      Láska v čase korony | Změna plánů}             => {Láska v čase korony | Není nutno}              0.001189280  0.9626168 0.001235466 321.88940   103\n",
      "[7]  {Láska v čase korony | Terapie,                                                                                                                      \n",
      "      Láska v čase korony | Změna plánů}             => {Láska v čase korony | Není nutno}              0.001477941  0.9624060 0.001535673 321.81891   128\n",
      "[8]  {Vraždy v kruhu | Duch zákona (6/12),                                                                                                                \n",
      "      Vraždy v kruhu | Vítěz nejde do finále (4/12)} => {Vraždy v kruhu | Smrt nad zlato (5/12)}        0.001062270  0.9583333 0.001108455 330.67082    92\n",
      "[9]  {Láska v čase korony | Oslava,                                                                                                                       \n",
      "      Láska v čase korony | Terapie}                 => {Láska v čase korony | Lidská práva}            0.001731962  0.9554140 0.001812786 150.99551   150\n",
      "[10] {Láska v čase korony | Lidská práva,                                                                                                                 \n",
      "      Láska v čase korony | Není nutno}              => {Láska v čase korony | Terapie}                 0.001708869  0.9548387 0.001789694 237.63137   148\n",
      "[11] {Láska v čase korony | Lidská práva,                                                                                                                 \n",
      "      Láska v čase korony | Není nutno,                                                                                                                   \n",
      "      Láska v čase korony | Oslava}                  => {Láska v čase korony | Terapie}                 0.001039177  0.9473684 0.001096909 235.77223    90\n",
      "[12] {MOST! | 3/8,                                                                                                                                        \n",
      "      MOST! | 5/8}                                   => {MOST! | 4/8}                                   0.001108455  0.9411765 0.001177734 399.57093    96\n",
      "[13] {Vraždy v kruhu | Smrt nad zlato (5/12),                                                                                                             \n",
      "      Vraždy v kruhu | Zlíbám tě, až zabiješ (3/12)} => {Vraždy v kruhu | Vítěz nejde do finále (4/12)} 0.001281652  0.9406780 0.001362476 280.92861   111\n",
      "[14] {MOST! | 1/8,                                                                                                                                        \n",
      "      MOST! | 3/8}                                   => {MOST! | 2/8}                                   0.001200827  0.9369369 0.001281652 349.76421   104\n",
      "[15] {Láska v čase korony | Není nutno,                                                                                                                   \n",
      "      Láska v čase korony | Oslava}                  => {Láska v čase korony | Lidská práva}            0.001096909  0.9313725 0.001177734 147.19595    95\n",
      "[16] {Vraždy v kruhu | Kamarád v nouzi (2/12),                                                                                                            \n",
      "      Vraždy v kruhu | Vítěz nejde do finále (4/12)} => {Vraždy v kruhu | Zlíbám tě, až zabiješ (3/12)} 0.001096909  0.9313725 0.001177734 178.06486    95\n",
      "[17] {Láska v čase korony | Není nutno,                                                                                                                   \n",
      "      Láska v čase korony | Oslava}                  => {Láska v čase korony | Terapie}                 0.001073816  0.9117647 0.001177734 226.91151    93\n",
      "[18] {Vraždy v kruhu | Mrtvý v síti (10/12),                                                                                                              \n",
      "      Vraždy v kruhu | Vražda s odpuštěním (8/12)}   => {Vraždy v kruhu | Láska je černý kůň (9/12)}    0.001027631  0.8900000 0.001154641 372.36826    89\n",
      "[19] {Láska v čase korony | Lidská práva,                                                                                                                 \n",
      "      Láska v čase korony | Změna plánů}             => {Láska v čase korony | Není nutno}              0.001235466  0.8629032 0.001431755 288.54618   107\n",
      "[20] {Láska v čase korony | Lidská práva,                                                                                                                 \n",
      "      Láska v čase korony | Změna plánů}             => {Láska v čase korony | Terapie}                 0.001235466  0.8629032 0.001431755 214.75132   107\n",
      "[21] {Láska v čase korony | Není nutno,                                                                                                                   \n",
      "      Láska v čase korony | Terapie,                                                                                                                      \n",
      "      Láska v čase korony | Změna plánů}             => {Láska v čase korony | Lidská práva}            0.001189280  0.8046875 0.001477941 127.17440   103\n",
      "[22] {Láska v čase korony | Terapie,                                                                                                                      \n",
      "      Láska v čase korony | Změna plánů}             => {Láska v čase korony | Lidská práva}            0.001235466  0.8045113 0.001535673 127.14655   107\n",
      "[23] {MOST! | 7/8,                                                                                                                                        \n",
      "      MOST! | 8/8}                                   => {MOST! | 6/8}                                   0.001027631  0.7876106 0.001304744 339.36613    89\n",
      "[24] {Láska v čase korony | Není nutno,                                                                                                                   \n",
      "      Láska v čase korony | Terapie}                 => {Láska v čase korony | Lidská práva}            0.001708869  0.7830688 0.002182272 123.75773   148\n",
      "[25] {Vraždy v kruhu | Pohřbený rozvod (1/12),                                                                                                            \n",
      "      Vraždy v kruhu | Zlíbám tě, až zabiješ (3/12)} => {Vraždy v kruhu | Kamarád v nouzi (2/12)}       0.001108455  0.7619048 0.001454848  53.21475    96\n",
      "[26] {MOST! | 7/8}                                   => {MOST! | 6/8}                                   0.001489487  0.7588235 0.001962890 326.96234   129\n",
      "[27] {Láska v čase korony | Terapie}                 => {Láska v čase korony | Lidská práva}            0.003048252  0.7586207 0.004018151 119.89391   264\n",
      "[28] {MOST! | 8/8}                                   => {MOST! | 7/8}                                   0.001304744  0.7583893 0.001720415 386.36364   113\n",
      "[29] {MOST! | 4/8,                                                                                                                                        \n",
      "      MOST! | 5/8}                                   => {MOST! | 3/8}                                   0.001108455  0.7441860 0.001489487 280.22487    96\n",
      "[30] {Láska v čase korony | Není nutno,                                                                                                                   \n",
      "      Láska v čase korony | Změna plánů}             => {Láska v čase korony | Terapie}                 0.001477941  0.7314286 0.002020622 182.03113   128\n",
      "[31] {Láska v čase korony | Není nutno}              => {Láska v čase korony | Terapie}                 0.002182272  0.7297297 0.002990520 181.60834   189\n",
      "[32] {MOST! | 2/8,                                                                                                                                        \n",
      "      MOST! | 3/8}                                   => {MOST! | 1/8}                                   0.001200827  0.7272727 0.001651137 159.46053   104\n",
      "[33] {Vraždy v kruhu | Láska je černý kůň (9/12),                                                                                                         \n",
      "      Vraždy v kruhu | Mrtvý v síti (10/12)}         => {Vraždy v kruhu | Vražda s odpuštěním (8/12)}   0.001027631  0.7235772 0.001420209 267.80707    89\n",
      "[34] {MOST! | 6/8,                                                                                                                                        \n",
      "      MOST! | 7/8}                                   => {MOST! | 5/8}                                   0.001039177  0.6976744 0.001489487 308.28310    90\n",
      "[35] {MOST! | 5/8,                                                                                                                                        \n",
      "      MOST! | 6/8}                                   => {MOST! | 7/8}                                   0.001039177  0.6976744 0.001489487 355.43228    90\n",
      "[36] {MOST! | 4/8}                                   => {MOST! | 3/8}                                   0.001639590  0.6960784 0.002355468 262.10985   142\n",
      "[37] {Láska v čase korony | Lidská práva,                                                                                                                 \n",
      "      Láska v čase korony | Není nutno,                                                                                                                   \n",
      "      Láska v čase korony | Terapie}                 => {Láska v čase korony | Změna plánů}             0.001189280  0.6959459 0.001708869 182.09604   103\n",
      "[38] {Vraždy v kruhu | Smrt nad zlato (5/12),                                                                                                             \n",
      "      Vraždy v kruhu | Vítěz nejde do finále (4/12)} => {Vraždy v kruhu | Zlíbám tě, až zabiješ (3/12)} 0.001281652  0.6937500 0.001847426 132.63489   111\n",
      "[39] {Láska v čase korony | Lidská práva,                                                                                                                 \n",
      "      Láska v čase korony | Není nutno}              => {Láska v čase korony | Změna plánů}             0.001235466  0.6903226 0.001789694 180.62468   107\n",
      "[40] {MOST! | 6/8,                                                                                                                                        \n",
      "      MOST! | 7/8}                                   => {MOST! | 8/8}                                   0.001027631  0.6899225 0.001489487 401.02091    89\n",
      "[41] {Láska v čase korony | Není nutno,                                                                                                                   \n",
      "      Láska v čase korony | Terapie}                 => {Láska v čase korony | Změna plánů}             0.001477941  0.6772487 0.002182272 177.20386   128\n",
      "[42] {MOST! | 2/8}                                   => {MOST! | 1/8}                                   0.001812786  0.6767241 0.002678767 148.37734   157\n",
      "[43] {MOST! | 3/8,                                                                                                                                        \n",
      "      MOST! | 4/8}                                   => {MOST! | 5/8}                                   0.001108455  0.6760563 0.001639590 298.73067    96\n",
      "[44] {Láska v čase korony | Není nutno}              => {Láska v čase korony | Změna plánů}             0.002020622  0.6756757 0.002990520 176.79228   175\n",
      "[45] {Anatomie zrady | 2/2}                          => {Anatomie zrady | 1/2}                          0.001270105  0.6748466 0.001882065 176.04350   110\n",
      "[46] {V pasti | V pasti II (5/10 – II. řada)}        => {V pasti | V pasti II (6/10 – II. řada)}        0.006431351  0.6743341 0.009537335  67.36108   557\n",
      "[47] {Bauhaus – Nová doba | Princ thébský (2/6)}     => {Bauhaus – Nová doba | Po válce (1/6)}          0.004595471  0.6734349 0.006823929  59.63617   398\n",
      "[48] {Vraždy v kruhu | Vítěz nejde do finále (4/12)} => {Vraždy v kruhu | Zlíbám tě, až zabiješ (3/12)} 0.002251550  0.6724138 0.003348459 128.55572   195\n",
      "[49] {Vraždy v kruhu | Duch zákona (6/12),                                                                                                                \n",
      "      Vraždy v kruhu | Smrt nad zlato (5/12)}        => {Vraždy v kruhu | Vítěz nejde do finále (4/12)} 0.001062270  0.6666667 0.001593405 199.09655    92\n",
      "[50] {MOST! | 7/8}                                   => {MOST! | 8/8}                                   0.001304744  0.6647059 0.001962890 386.36364   113\n"
     ]
    }
   ],
   "source": [
    "inspect(head(rules, n = 50, by = \"confidence\"))"
   ]
  },
  {
   "cell_type": "code",
   "execution_count": null,
   "metadata": {},
   "outputs": [],
   "source": []
  },
  {
   "cell_type": "code",
   "execution_count": 90,
   "metadata": {},
   "outputs": [
    {
     "data": {
      "text/html": [
       "<table>\n",
       "<caption>A grouped_df: 6 × 4</caption>\n",
       "<thead>\n",
       "\t<tr><th scope=col>user</th><th scope=col>porad</th><th scope=col>shlednuti</th><th scope=col>serie</th></tr>\n",
       "\t<tr><th scope=col>&lt;chr&gt;</th><th scope=col>&lt;chr&gt;</th><th scope=col>&lt;int&gt;</th><th scope=col>&lt;chr&gt;</th></tr>\n",
       "</thead>\n",
       "<tbody>\n",
       "\t<tr><td>547476995.1585606314 </td><td>Svět rostlin                              </td><td>231</td><td>Svět rostlin                              </td></tr>\n",
       "\t<tr><td>1748062582.1578690272</td><td>Němčina s Bílou paní: Schluss im Schloss  </td><td>189</td><td>Němčina s Bílou paní: Schluss im Schloss  </td></tr>\n",
       "\t<tr><td>1425682668.1588682431</td><td>Pozdní jaro: Živočichové a rozkvetlé louky</td><td>151</td><td>Pozdní jaro: Živočichové a rozkvetlé louky</td></tr>\n",
       "\t<tr><td>1237462012.1587892788</td><td>Josef Jungmann                            </td><td>137</td><td>Josef Jungmann                            </td></tr>\n",
       "\t<tr><td>1881005439.1577736071</td><td>Jóga v přírodě: Cviky Hůl, Loď, Volavka   </td><td>130</td><td>Jóga v přírodě: Cviky Hůl, Loď, Volavka   </td></tr>\n",
       "\t<tr><td>1738591574.1589831551</td><td>Karel Jaromír Erben: Jeho život a doba    </td><td>112</td><td>Karel Jaromír Erben: Jeho život a doba    </td></tr>\n",
       "</tbody>\n",
       "</table>\n"
      ],
      "text/latex": [
       "A grouped\\_df: 6 × 4\n",
       "\\begin{tabular}{llll}\n",
       " user & porad & shlednuti & serie\\\\\n",
       " <chr> & <chr> & <int> & <chr>\\\\\n",
       "\\hline\n",
       "\t 547476995.1585606314  & Svět rostlin                               & 231 & Svět rostlin                              \\\\\n",
       "\t 1748062582.1578690272 & Němčina s Bílou paní: Schluss im Schloss   & 189 & Němčina s Bílou paní: Schluss im Schloss  \\\\\n",
       "\t 1425682668.1588682431 & Pozdní jaro: Živočichové a rozkvetlé louky & 151 & Pozdní jaro: Živočichové a rozkvetlé louky\\\\\n",
       "\t 1237462012.1587892788 & Josef Jungmann                             & 137 & Josef Jungmann                            \\\\\n",
       "\t 1881005439.1577736071 & Jóga v přírodě: Cviky Hůl, Loď, Volavka    & 130 & Jóga v přírodě: Cviky Hůl, Loď, Volavka   \\\\\n",
       "\t 1738591574.1589831551 & Karel Jaromír Erben: Jeho život a doba     & 112 & Karel Jaromír Erben: Jeho život a doba    \\\\\n",
       "\\end{tabular}\n"
      ],
      "text/markdown": [
       "\n",
       "A grouped_df: 6 × 4\n",
       "\n",
       "| user &lt;chr&gt; | porad &lt;chr&gt; | shlednuti &lt;int&gt; | serie &lt;chr&gt; |\n",
       "|---|---|---|---|\n",
       "| 547476995.1585606314  | Svět rostlin                               | 231 | Svět rostlin                               |\n",
       "| 1748062582.1578690272 | Němčina s Bílou paní: Schluss im Schloss   | 189 | Němčina s Bílou paní: Schluss im Schloss   |\n",
       "| 1425682668.1588682431 | Pozdní jaro: Živočichové a rozkvetlé louky | 151 | Pozdní jaro: Živočichové a rozkvetlé louky |\n",
       "| 1237462012.1587892788 | Josef Jungmann                             | 137 | Josef Jungmann                             |\n",
       "| 1881005439.1577736071 | Jóga v přírodě: Cviky Hůl, Loď, Volavka    | 130 | Jóga v přírodě: Cviky Hůl, Loď, Volavka    |\n",
       "| 1738591574.1589831551 | Karel Jaromír Erben: Jeho život a doba     | 112 | Karel Jaromír Erben: Jeho život a doba     |\n",
       "\n"
      ],
      "text/plain": [
       "  user                  porad                                      shlednuti\n",
       "1 547476995.1585606314  Svět rostlin                               231      \n",
       "2 1748062582.1578690272 Němčina s Bílou paní: Schluss im Schloss   189      \n",
       "3 1425682668.1588682431 Pozdní jaro: Živočichové a rozkvetlé louky 151      \n",
       "4 1237462012.1587892788 Josef Jungmann                             137      \n",
       "5 1881005439.1577736071 Jóga v přírodě: Cviky Hůl, Loď, Volavka    130      \n",
       "6 1738591574.1589831551 Karel Jaromír Erben: Jeho život a doba     112      \n",
       "  serie                                     \n",
       "1 Svět rostlin                              \n",
       "2 Němčina s Bílou paní: Schluss im Schloss  \n",
       "3 Pozdní jaro: Živočichové a rozkvetlé louky\n",
       "4 Josef Jungmann                            \n",
       "5 Jóga v přírodě: Cviky Hůl, Loď, Volavka   \n",
       "6 Karel Jaromír Erben: Jeho život a doba    "
      ]
     },
     "metadata": {},
     "output_type": "display_data"
    }
   ],
   "source": [
    "library(stringr)\n",
    "\n",
    "data$serie <- str_split_fixed(data$porad,\"\\\\|\",2)[,1]\n",
    "head(data)\n"
   ]
  },
  {
   "cell_type": "code",
   "execution_count": 91,
   "metadata": {},
   "outputs": [
    {
     "data": {
      "text/html": [
       "<table>\n",
       "<caption>A grouped_df: 6 × 3</caption>\n",
       "<thead>\n",
       "\t<tr><th scope=col>user</th><th scope=col>serie</th><th scope=col>shlednuti</th></tr>\n",
       "\t<tr><th scope=col>&lt;chr&gt;</th><th scope=col>&lt;chr&gt;</th><th scope=col>&lt;int&gt;</th></tr>\n",
       "</thead>\n",
       "<tbody>\n",
       "\t<tr><td>547476995.1585606314 </td><td>Svět rostlin                              </td><td>231</td></tr>\n",
       "\t<tr><td>1748062582.1578690272</td><td>Němčina s Bílou paní: Schluss im Schloss  </td><td>189</td></tr>\n",
       "\t<tr><td>1527102943.1581135379</td><td>Studio 6                                  </td><td>172</td></tr>\n",
       "\t<tr><td>533469818.1591103377 </td><td>Černé ovce                                </td><td>169</td></tr>\n",
       "\t<tr><td>389682992.1578680241 </td><td>Černé ovce                                </td><td>158</td></tr>\n",
       "\t<tr><td>1425682668.1588682431</td><td>Pozdní jaro: Živočichové a rozkvetlé louky</td><td>151</td></tr>\n",
       "</tbody>\n",
       "</table>\n"
      ],
      "text/latex": [
       "A grouped\\_df: 6 × 3\n",
       "\\begin{tabular}{lll}\n",
       " user & serie & shlednuti\\\\\n",
       " <chr> & <chr> & <int>\\\\\n",
       "\\hline\n",
       "\t 547476995.1585606314  & Svět rostlin                               & 231\\\\\n",
       "\t 1748062582.1578690272 & Němčina s Bílou paní: Schluss im Schloss   & 189\\\\\n",
       "\t 1527102943.1581135379 & Studio 6                                   & 172\\\\\n",
       "\t 533469818.1591103377  & Černé ovce                                 & 169\\\\\n",
       "\t 389682992.1578680241  & Černé ovce                                 & 158\\\\\n",
       "\t 1425682668.1588682431 & Pozdní jaro: Živočichové a rozkvetlé louky & 151\\\\\n",
       "\\end{tabular}\n"
      ],
      "text/markdown": [
       "\n",
       "A grouped_df: 6 × 3\n",
       "\n",
       "| user &lt;chr&gt; | serie &lt;chr&gt; | shlednuti &lt;int&gt; |\n",
       "|---|---|---|\n",
       "| 547476995.1585606314  | Svět rostlin                               | 231 |\n",
       "| 1748062582.1578690272 | Němčina s Bílou paní: Schluss im Schloss   | 189 |\n",
       "| 1527102943.1581135379 | Studio 6                                   | 172 |\n",
       "| 533469818.1591103377  | Černé ovce                                 | 169 |\n",
       "| 389682992.1578680241  | Černé ovce                                 | 158 |\n",
       "| 1425682668.1588682431 | Pozdní jaro: Živočichové a rozkvetlé louky | 151 |\n",
       "\n"
      ],
      "text/plain": [
       "  user                  serie                                      shlednuti\n",
       "1 547476995.1585606314  Svět rostlin                               231      \n",
       "2 1748062582.1578690272 Němčina s Bílou paní: Schluss im Schloss   189      \n",
       "3 1527102943.1581135379 Studio 6                                   172      \n",
       "4 533469818.1591103377  Černé ovce                                 169      \n",
       "5 389682992.1578680241  Černé ovce                                 158      \n",
       "6 1425682668.1588682431 Pozdní jaro: Živočichové a rozkvetlé louky 151      "
      ]
     },
     "metadata": {},
     "output_type": "display_data"
    }
   ],
   "source": [
    "\n",
    "\n",
    "data_serie <- data %>% group_by(user,serie) %>%\n",
    "  summarise(\n",
    "     shlednuti=sum(shlednuti)\n",
    "  ) %>%\n",
    "  arrange(desc(shlednuti))\n",
    "\n",
    "\n",
    "head(data_serie)"
   ]
  },
  {
   "cell_type": "code",
   "execution_count": 92,
   "metadata": {},
   "outputs": [
    {
     "data": {
      "text/plain": [
       "transactions as itemMatrix in sparse format with\n",
       " 86607 rows (elements/itemsets/transactions) and\n",
       " 3870 columns (items) and a density of 0.0003379697 \n",
       "\n",
       "most frequent items:\n",
       "          168 hodin             Události         Reportéři ČT  \n",
       "                5674                 4375                 4218 \n",
       "     Vraždy v kruhu  Případy 1. oddělení               (Other) \n",
       "                2427                 2293                94290 \n",
       "\n",
       "element (itemset/transaction) length distribution:\n",
       "sizes\n",
       "    1     2     3     4     5     6     7     8     9    10    11    12    13 \n",
       "71712  9520  2883  1170   533   287   154   111    68    51    35    14    10 \n",
       "   14    15    16    17    18    19    20    21    22    23    24    25    26 \n",
       "   12    10    11     6     5     3     1     1     1     1     1     2     2 \n",
       "   27    29 \n",
       "    2     1 \n",
       "\n",
       "   Min. 1st Qu.  Median    Mean 3rd Qu.    Max. \n",
       "  1.000   1.000   1.000   1.308   1.000  29.000 \n",
       "\n",
       "includes extended item information - examples:\n",
       "              labels\n",
       "1  - Сер, ви вдова! \n",
       "2           -terapie\n",
       "3 ...a tuhle znáte? \n",
       "\n",
       "includes extended transaction information - examples:\n",
       "          transactionID\n",
       "1 1000011999.1578170758\n",
       "2 1000014320.1542830433\n",
       "3 1000023251.1590736847"
      ]
     },
     "metadata": {},
     "output_type": "display_data"
    }
   ],
   "source": [
    "\n",
    " \n",
    "# Write our data.frame to a csv\n",
    "write.csv(data_serie[,c(1,2)], \"/tmp/tall_serie.csv\")\n",
    " \n",
    "# Read that csv back in\n",
    "relations <- read.transactions(\n",
    "        file = \"/tmp/tall_serie.csv\",\n",
    "        format = \"single\",\n",
    "        sep = \",\",\n",
    "        cols=c(\"user\",\"serie\"),\n",
    "        rm.duplicates = T,\n",
    "        header=TRUE\n",
    ")\n",
    "summary(relations)"
   ]
  },
  {
   "cell_type": "code",
   "execution_count": 96,
   "metadata": {},
   "outputs": [
    {
     "name": "stdout",
     "output_type": "stream",
     "text": [
      "Apriori\n",
      "\n",
      "Parameter specification:\n",
      " confidence minval smax arem  aval originalSupport maxtime support minlen\n",
      "        0.5    0.1    1 none FALSE            TRUE       5   3e-04      1\n",
      " maxlen target  ext\n",
      "     10  rules TRUE\n",
      "\n",
      "Algorithmic control:\n",
      " filter tree heap memopt load sort verbose\n",
      "    0.1 TRUE TRUE  FALSE TRUE    2    TRUE\n",
      "\n",
      "Absolute minimum support count: 25 \n",
      "\n",
      "set item appearances ...[0 item(s)] done [0.00s].\n",
      "set transactions ...[3870 item(s), 86607 transaction(s)] done [0.06s].\n",
      "sorting and recoding items ... [499 item(s)] done [0.01s].\n",
      "creating transaction tree ... done [0.06s].\n",
      "checking subsets of size 1 2 3 4 done [0.00s].\n",
      "writing ... [21 rule(s)] done [0.00s].\n",
      "creating S4 object  ... done [0.04s].\n"
     ]
    }
   ],
   "source": [
    "rules <- apriori(relations, parameter = list(support = 0.0003, confidence = 0.5))"
   ]
  },
  {
   "cell_type": "code",
   "execution_count": 98,
   "metadata": {},
   "outputs": [
    {
     "name": "stdout",
     "output_type": "stream",
     "text": [
      "     lhs                                       rhs                                         support confidence     coverage        lift count\n",
      "[1]  {Otázky Václava Moravce ,                                                                                                              \n",
      "      Reportéři ČT }                        => {168 hodin }                           0.0006235062  0.5684211 0.0010969090    8.676285    54\n",
      "[2]  {Černé ovce ,                                                                                                                          \n",
      "      Reportéři ČT }                        => {168 hodin }                           0.0004964957  0.5000000 0.0009929913    7.631918    43\n",
      "[3]  {Pokusy na magnetické pole}            => {Siločáry magnetu}                     0.0003810316  0.6875000 0.0005542277 1266.857713    33\n",
      "[4]  {Siločáry magnetu}                     => {Pokusy na magnetické pole}            0.0003810316  0.7021277 0.0005426813 1266.857713    33\n",
      "[5]  {Čína: Dopady politiky jednoho dítěte} => {Konec politiky jednoho dítěte v Číně} 0.0003579387  0.7948718 0.0004503100 1323.874260    31\n",
      "[6]  {Konec politiky jednoho dítěte v Číně} => {Čína: Dopady politiky jednoho dítěte} 0.0003579387  0.5961538 0.0006004134 1323.874260    31\n",
      "[7]  {Demografické problémy Číny}           => {Čína: Dopady politiky jednoho dítěte} 0.0003348459  0.8055556 0.0004156708 1788.891026    29\n",
      "[8]  {Čína: Dopady politiky jednoho dítěte} => {Demografické problémy Číny}           0.0003348459  0.7435897 0.0004503100 1788.891026    29\n",
      "[9]  {Elektrický obvod}                     => {Elektrické obvody}                    0.0003348459  0.8055556 0.0004156708 1025.981618    29\n",
      "[10] {Vynálezce bleskosvodu}                => {Blesk a hrom}                         0.0003232995  0.8750000 0.0003694851 2105.031250    28\n",
      "[11] {Blesk a hrom}                         => {Vynálezce bleskosvodu}                0.0003232995  0.7777778 0.0004156708 2105.031250    28\n",
      "[12] {Výroba kompasu}                       => {Pokusy na magnetické pole}            0.0003117531  0.6923077 0.0004503100 1249.139423    27\n",
      "[13] {Pokusy na magnetické pole}            => {Výroba kompasu}                       0.0003117531  0.5625000 0.0005542277 1249.139423    27\n",
      "[14] {Vznik a vlastnosti oxidu uhličitého}  => {Skleníkový efekt}                     0.0003002067  0.7027027 0.0004272172 1148.282509    26\n",
      "[15] {Demografické problémy Číny}           => {Konec politiky jednoho dítěte v Číně} 0.0003002067  0.7222222 0.0004156708 1202.875000    26\n",
      "[16] {Konec politiky jednoho dítěte v Číně} => {Demografické problémy Číny}           0.0003002067  0.5000000 0.0006004134 1202.875000    26\n",
      "[17] {Výroba kompasu}                       => {Siločáry magnetu}                     0.0003002067  0.6666667 0.0004503100 1228.468085    26\n",
      "[18] {Siločáry magnetu}                     => {Výroba kompasu}                       0.0003002067  0.5531915 0.0005426813 1228.468085    26\n",
      "[19] {Pokusy na magnetické pole,                                                                                                            \n",
      "      Výroba kompasu}                       => {Siločáry magnetu}                     0.0003002067  0.9629630 0.0003117531 1774.453901    26\n",
      "[20] {Siločáry magnetu,                                                                                                                     \n",
      "      Výroba kompasu}                       => {Pokusy na magnetické pole}            0.0003002067  1.0000000 0.0003002067 1804.312500    26\n",
      "[21] {Pokusy na magnetické pole,                                                                                                            \n",
      "      Siločáry magnetu}                     => {Výroba kompasu}                       0.0003002067  0.7878788 0.0003810316 1749.636364    26\n"
     ]
    }
   ],
   "source": [
    "inspect(head(rules, n = 50, by = \"support\"))"
   ]
  }
 ],
 "metadata": {
  "environment": {
   "name": "r-cpu.3-6.m46",
   "type": "gcloud",
   "uri": "gcr.io/deeplearning-platform-release/r-cpu.3-6:m46"
  },
  "kernelspec": {
   "display_name": "R",
   "language": "R",
   "name": "ir"
  },
  "language_info": {
   "codemirror_mode": "r",
   "file_extension": ".r",
   "mimetype": "text/x-r-source",
   "name": "R",
   "pygments_lexer": "r",
   "version": "3.6.3"
  }
 },
 "nbformat": 4,
 "nbformat_minor": 4
}
